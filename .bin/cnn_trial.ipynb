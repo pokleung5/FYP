{
 "nbformat": 4,
 "nbformat_minor": 2,
 "metadata": {
  "language_info": {
   "name": "python",
   "codemirror_mode": {
    "name": "ipython",
    "version": 3
   },
   "version": "3.7.4-final"
  },
  "orig_nbformat": 2,
  "file_extension": ".py",
  "mimetype": "text/x-python",
  "name": "python",
  "npconvert_exporter": "python",
  "pygments_lexer": "ipython3",
  "version": 3,
  "kernelspec": {
   "name": "python3",
   "display_name": "Python 3"
  }
 },
 "cells": [
  {
   "cell_type": "code",
   "execution_count": null,
   "metadata": {},
   "outputs": [],
   "source": [
    "from DataGenerator import *\n",
    "from bad_grad_viz import *\n",
    "import torch"
   ]
  },
  {
   "cell_type": "code",
   "execution_count": null,
   "metadata": {},
   "outputs": [],
   "source": [
    "def dm(x):\n",
    "    batch = x.size()[0] if len(x.size()) > 2 else 1\n",
    "    m = x\n",
    "\n",
    "    if batch > 2:\n",
    "        m = sum(m.matmul(m.permute(0, 2, 1)))\n",
    "\n",
    "    diag = m.diag().unsqueeze(0).expand_as(m)\n",
    "    return m * -2 + diag + diag.t()"
   ]
  },
  {
   "cell_type": "code",
   "execution_count": null,
   "metadata": {},
   "outputs": [],
   "source": [
    "conv1 = torch.nn.Conv2d(\n",
    "in_channels=1,           # input shape \n",
    "out_channels=1,          # output shape\n",
    "kernel_size=2\n",
    ")\n",
    "\n",
    "conv2 = torch.nn.Conv2d(\n",
    "in_channels=1,           # input shape \n",
    "out_channels=2,          # output shape\n",
    "kernel_size=2\n",
    ")\n",
    "\n",
    "r_conv1 = torch.nn.ConvTranspose2d(\n",
    "in_channels=2,           # input shape \n",
    "out_channels=1,          # output shape\n",
    "kernel_size=3\n",
    ")\n",
    "\n",
    "ll = torch.nn.Linear(in_features=5, out_features=2, bias=True) \n",
    "\n",
    "dg = DataGenerator((5, 2))\n",
    "\n",
    "dgl = dg.get_dm_loader(N=3, batch=5)\n",
    "\n",
    "for step, target in enumerate(dgl):\n",
    "    a1 = target \n",
    "    a2 = conv1(a1)\n",
    "    a3 = conv2(a2)\n",
    "    a4 = r_conv1(a3)\n",
    "    a5 = ll(a4)\n",
    "    # print(a1, a2, a3, a4, a5, sep='\\n\\n')\n",
    "    a6 = dm(a5.view(3, 5, 2))\n",
    "    print(sum(a1), a6, sep='\\n\\n')\n",
    "\n",
    "    ls = torch.sum((a6 - sum(a1)) ** 2)\n",
    "\n",
    "    print(ls)\n",
    "    break"
   ]
  },
  {
   "cell_type": "code",
   "execution_count": null,
   "metadata": {},
   "outputs": [],
   "source": [
    "view_gradient(a6)"
   ]
  },
  {
   "cell_type": "code",
   "execution_count": null,
   "metadata": {},
   "outputs": [],
   "source": []
  }
 ]
}