{
 "nbformat": 4,
 "nbformat_minor": 2,
 "metadata": {
  "language_info": {
   "name": "python",
   "codemirror_mode": {
    "name": "ipython",
    "version": 3
   },
   "version": "3.7.4-final"
  },
  "orig_nbformat": 2,
  "file_extension": ".py",
  "mimetype": "text/x-python",
  "name": "python",
  "npconvert_exporter": "python",
  "pygments_lexer": "ipython3",
  "version": 3,
  "kernelspec": {
   "name": "python3",
   "display_name": "Python 3"
  }
 },
 "cells": [
  {
   "cell_type": "code",
   "execution_count": 8,
   "metadata": {},
   "outputs": [],
   "source": [
    "from DataGenerator import *\n",
    "import torch"
   ]
  },
  {
   "cell_type": "code",
   "execution_count": 9,
   "metadata": {},
   "outputs": [],
   "source": [
    "def dm(x):\n",
    "    batch = x.size()[0] if len(x.size()) > 2 else 1\n",
    "    m = x\n",
    "\n",
    "    if batch > 2:\n",
    "        m = sum(m.matmul(m.permute(0, 2, 1)))\n",
    "\n",
    "    diag = m.diag().unsqueeze(0).expand_as(m)\n",
    "    return m * -2 + diag + diag.t()"
   ]
  },
  {
   "cell_type": "code",
   "execution_count": 10,
   "metadata": {},
   "outputs": [],
   "source": [
    "a = get_coordinates((5, 2), 1, 0, 5)\n",
    "b = get_distance_matrices(a)\n",
    "\n"
   ]
  },
  {
   "cell_type": "code",
   "execution_count": 11,
   "metadata": {},
   "outputs": [
    {
     "output_type": "stream",
     "name": "stdout",
     "text": "torch.Size([5, 5, 5])\ntorch.Size([1, 5, 5, 5])\n"
    }
   ],
   "source": [
    "print(b.size())\n",
    "c = b.view(1, 5, 5, 5) # batch, x, y\n",
    "print(c.size())"
   ]
  },
  {
   "cell_type": "code",
   "execution_count": 12,
   "metadata": {},
   "outputs": [],
   "source": [
    "conv1 = torch.nn.Conv2d(\n",
    "in_channels=5,           # input shape \n",
    "out_channels=5,          # output shape\n",
    "kernel_size=2\n",
    ")\n",
    "\n",
    "r_conv1 = torch.nn.ConvTranspose2d(\n",
    "in_channels=5,           # input shape \n",
    "out_channels=5,          # output shape\n",
    "kernel_size=2\n",
    ")\n",
    "\n",
    "ll = torch.nn.Linear(in_features=5, out_features=2, bias=True)"
   ]
  },
  {
   "cell_type": "code",
   "execution_count": 14,
   "metadata": {},
   "outputs": [],
   "source": [
    "d = ll(r_conv1(conv1(c)))"
   ]
  },
  {
   "cell_type": "code",
   "execution_count": 15,
   "metadata": {},
   "outputs": [
    {
     "output_type": "execute_result",
     "data": {
      "text/plain": "tensor([[0.0000, 1.4875, 1.4956, 1.3903, 0.9427],\n        [1.4875, 0.0000, 1.8371, 2.3200, 2.2674],\n        [1.4956, 1.8371, 0.0000, 2.2440, 2.1130],\n        [1.3903, 2.3200, 2.2440, 0.0000, 1.8982],\n        [0.9427, 2.2674, 2.1130, 1.8982, 0.0000]])"
     },
     "metadata": {},
     "execution_count": 15
    }
   ],
   "source": [
    "dm(a)"
   ]
  },
  {
   "cell_type": "code",
   "execution_count": 17,
   "metadata": {},
   "outputs": [
    {
     "output_type": "execute_result",
     "data": {
      "text/plain": "tensor([[0.0000, 0.0888, 0.1734, 0.0720, 0.1654],\n        [0.0888, 0.0000, 0.1302, 0.1096, 0.1249],\n        [0.1734, 0.1302, 0.0000, 0.0634, 0.2276],\n        [0.0720, 0.1096, 0.0634, 0.0000, 0.1299],\n        [0.1654, 0.1249, 0.2276, 0.1299, 0.0000]], grad_fn=<AddBackward0>)"
     },
     "metadata": {},
     "execution_count": 17
    }
   ],
   "source": [
    "dm(d[0])"
   ]
  },
  {
   "cell_type": "code",
   "execution_count": 20,
   "metadata": {},
   "outputs": [
    {
     "output_type": "execute_result",
     "data": {
      "text/plain": "tensor([[0.0000, 1.7356, 1.6740, 1.7122, 1.5372],\n        [1.7356, 0.0000, 1.7922, 1.9090, 1.8414],\n        [1.6740, 1.7922, 0.0000, 1.7818, 1.8108],\n        [1.7122, 1.9090, 1.7818, 0.0000, 1.7360],\n        [1.5372, 1.8414, 1.8108, 1.7360, 0.0000]])"
     },
     "metadata": {},
     "execution_count": 20
    }
   ],
   "source": [
    "sum(b) ** 0.5"
   ]
  },
  {
   "cell_type": "code",
   "execution_count": null,
   "metadata": {},
   "outputs": [],
   "source": [
    "sum(dm(a))"
   ]
  },
  {
   "cell_type": "code",
   "execution_count": null,
   "metadata": {},
   "outputs": [],
   "source": []
  }
 ]
}